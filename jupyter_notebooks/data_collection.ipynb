{
 "cells": [
  {
   "cell_type": "code",
   "execution_count": 1,
   "metadata": {},
   "outputs": [],
   "source": [
    "import requests\n",
    "import os\n",
    "import csv\n",
    "import pandas as pd\n",
    "import requests\n",
    "import numpy as np\n",
    "from io import BytesIO\n",
    "from colorthief import ColorThief\n",
    "from bs4 import BeautifulSoup"
   ]
  },
  {
   "cell_type": "code",
   "execution_count": 2,
   "metadata": {},
   "outputs": [
    {
     "name": "stdout",
     "output_type": "stream",
     "text": [
      "# START YOAST BLOCK\n",
      "# ---------------------------\n",
      "User-agent: *\n",
      "Disallow:\n",
      "\n",
      "Sitemap: http://mrmrsenglish.com/sitemap_index.xml\n",
      "# ---------------------------\n",
      "# END YOAST BLOCK\n"
     ]
    }
   ],
   "source": [
    "url = 'https://mrmrsenglish.com/robots.txt'\n",
    "response = requests.get(url)\n",
    "print(response.text) "
   ]
  },
  {
   "cell_type": "code",
   "execution_count": 3,
   "metadata": {},
   "outputs": [
    {
     "name": "stdout",
     "output_type": "stream",
     "text": [
      "b'<!DOCTYPE html>\\n<html lang=\"en-US\" class=\"no-js no-svg\">\\n\\n<head><meta http-equiv=\"Content-Type\" cont'\n"
     ]
    }
   ],
   "source": [
    "url = 'https://mrmrsenglish.com/different-shape-names/'\n",
    "response = requests.get(url)  \n",
    "print(response.content[:100]) "
   ]
  },
  {
   "cell_type": "code",
   "execution_count": 4,
   "metadata": {},
   "outputs": [
    {
     "name": "stdout",
     "output_type": "stream",
     "text": [
      "Index: 1, Shape: Circle, Description: A round shape with all points on its boundary equidistant from its center., Image URL: http://mrmrsenglish.com/wp-content/uploads/2024/02/1-24.png\n",
      "Index: 2, Shape: Square, Description: A quadrilateral with all sides of equal length and all angles at 90 degrees., Image URL: http://mrmrsenglish.com/wp-content/uploads/2024/02/2-24.png\n",
      "Index: 3, Shape: Triangle, Description: A three-sided and three-angled polygon., Image URL: http://mrmrsenglish.com/wp-content/uploads/2024/02/3-24.png\n",
      "Index: 4, Shape: Rectangle, Description: A quadrilateral with opposite sides of equal length and all angles at 90 degrees., Image URL: http://mrmrsenglish.com/wp-content/uploads/2024/02/4-24.png\n",
      "Index: 5, Shape: Pentagon, Description: A polygon with five sides and five angles., Image URL: http://mrmrsenglish.com/wp-content/uploads/2024/02/5-23.png\n",
      "Index: 6, Shape: Hexagon, Description: Six-sided and six-angled polygon., Image URL: http://mrmrsenglish.com/wp-content/uploads/2024/02/6-23.png\n",
      "Index: 7, Shape: Heptagon, Description: A polygon with seven sides and seven angles., Image URL: http://mrmrsenglish.com/wp-content/uploads/2024/02/7-23.png\n",
      "Index: 8, Shape: Octagon, Description: Eight sides and eight angles make up a polygon., Image URL: http://mrmrsenglish.com/wp-content/uploads/2024/02/8-24.png\n",
      "Index: 9, Shape: Nonagon, Description: A polygon with nine sides and nine angles., Image URL: http://mrmrsenglish.com/wp-content/uploads/2024/02/9-24.png\n",
      "Index: 10, Shape: Decagon, Description: A ten-sided and ten-angled polygon., Image URL: http://mrmrsenglish.com/wp-content/uploads/2024/02/10-24.png\n",
      "Index: 11, Shape: Dodecagon, Description: A polygon with twelve sides and twelve angles., Image URL: http://mrmrsenglish.com/wp-content/uploads/2024/02/11-23.png\n",
      "Index: 12, Shape: Oval, Description: A rounded shape resembling an elongated circle., Image URL: http://mrmrsenglish.com/wp-content/uploads/2024/02/12-23.png\n",
      "Index: 13, Shape: Rhombus, Description: A quadrilateral with all sides of equal length but with opposite angles not necessarily equal., Image URL: http://mrmrsenglish.com/wp-content/uploads/2024/02/13-22.png\n",
      "Index: 14, Shape: Parallelogram, Description: A quadrilateral with equal length and parallel opposing sides., Image URL: http://mrmrsenglish.com/wp-content/uploads/2024/02/14-22.png\n",
      "Index: 15, Shape: Trapezoid, Description: A quadrilateral with a minimum of two parallel sides., Image URL: http://mrmrsenglish.com/wp-content/uploads/2024/02/15-22.png\n",
      "Index: 16, Shape: Equilateral triangle, Description: A triangle with equal lengths on each of its three sides., Image URL: http://mrmrsenglish.com/wp-content/uploads/2024/02/16-22.png\n",
      "Index: 17, Shape: Isosceles triangle, Description: A triangle having a minimum of two equally long sides., Image URL: http://mrmrsenglish.com/wp-content/uploads/2024/02/17-24.png\n",
      "Index: 18, Shape: Scalene triangle, Description: A triangle with all three sides of different lengths., Image URL: http://mrmrsenglish.com/wp-content/uploads/2024/02/18-24.png\n",
      "Index: 19, Shape: Right triangle, Description: A triangle with one angle measuring 90 degrees., Image URL: http://mrmrsenglish.com/wp-content/uploads/2024/02/19-24.png\n",
      "Index: 20, Shape: Acute triangle, Description: A triangle with all three angles measuring less than 90 degrees., Image URL: http://mrmrsenglish.com/wp-content/uploads/2024/02/20-24.png\n",
      "Index: 21, Shape: Obtuse triangle, Description: A triangle with one angle greater than 90 degrees., Image URL: http://mrmrsenglish.com/wp-content/uploads/2024/02/21-23.png\n",
      "Index: 22, Shape: Kite, Description: A quadrilateral with two pairs of adjacent sides of equal length., Image URL: http://mrmrsenglish.com/wp-content/uploads/2024/02/22-23.png\n",
      "Index: 23, Shape: Star, Description: A shape formed by intersecting lines or curves radiating from a central point., Image URL: http://mrmrsenglish.com/wp-content/uploads/2024/02/23-23.png\n",
      "Index: 24, Shape: Crescent, Description: A curved shape resembling a segment of a circle., Image URL: http://mrmrsenglish.com/wp-content/uploads/2024/02/24-23.png\n",
      "Index: 25, Shape: Heart, Description: A symbol with two curved sections meeting at the bottom and a cleft at the top., Image URL: http://mrmrsenglish.com/wp-content/uploads/2024/02/25-23.png\n",
      "Index: 26, Shape: Arrow, Description: A straight, pointed shape indicating direction., Image URL: http://mrmrsenglish.com/wp-content/uploads/2024/02/26-24.png\n",
      "Index: 27, Shape: Diamond, Description: A quadrilateral with all sides of equal length and opposite angles equal., Image URL: http://mrmrsenglish.com/wp-content/uploads/2024/02/27-24.png\n",
      "Index: 28, Shape: Cube, Description: A three-dimensional shape with six square faces., Image URL: http://mrmrsenglish.com/wp-content/uploads/2024/02/28-24.png\n",
      "Index: 29, Shape: Sphere, Description: A perfectly round three-dimensional object., Image URL: http://mrmrsenglish.com/wp-content/uploads/2024/02/29-24.png\n",
      "Index: 30, Shape: Cone, Description: A shape with a circular base tapering to a point., Image URL: http://mrmrsenglish.com/wp-content/uploads/2024/02/30-23.png\n",
      "Index: 31, Shape: Cylinder, Description: A shape with two parallel circular bases., Image URL: http://mrmrsenglish.com/wp-content/uploads/2024/02/31-23.png\n",
      "Index: 32, Shape: Pyramid, Description: A polyhedron with a polygonal base and triangular faces meeting at a common vertex., Image URL: http://mrmrsenglish.com/wp-content/uploads/2024/02/32-23.png\n",
      "Index: 33, Shape: Prism, Description: A polyhedron with two parallel bases and rectangular or parallelogram sides., Image URL: http://mrmrsenglish.com/wp-content/uploads/2024/02/33-23.png\n",
      "Index: 34, Shape: Tetrahedron, Description: A polyhedron with four triangular faces., Image URL: http://mrmrsenglish.com/wp-content/uploads/2024/02/34-24.png\n",
      "Index: 35, Shape: Octahedron, Description: A polyhedron with eight triangular faces., Image URL: http://mrmrsenglish.com/wp-content/uploads/2024/02/35-24.png\n",
      "Index: 36, Shape: Icosahedron, Description: A polyhedron with twenty triangular faces., Image URL: http://mrmrsenglish.com/wp-content/uploads/2024/02/36-23.png\n",
      "Index: 37, Shape: Dodecahedron, Description: A polyhedron with twelve pentagonal faces., Image URL: http://mrmrsenglish.com/wp-content/uploads/2024/02/37-23.png\n",
      "Index: 38, Shape: Torus, Description: A doughnut-shaped three-dimensional object., Image URL: http://mrmrsenglish.com/wp-content/uploads/2024/02/38-23.png\n",
      "Index: 39, Shape: Ellipse, Description: A stretched-out circle with two focal points., Image URL: http://mrmrsenglish.com/wp-content/uploads/2024/02/39-22.png\n",
      "Index: 40, Shape: Crescent, Description: A curved shape resembling a segment of a circle., Image URL: http://mrmrsenglish.com/wp-content/uploads/2024/02/40-22.png\n",
      "Index: 41, Shape: Annulus, Description: A ring-shaped object formed by two concentric circles., Image URL: http://mrmrsenglish.com/wp-content/uploads/2024/02/41-22.png\n",
      "Index: 42, Shape: Rhomboid, Description: A parallelogram with unequal adjacent sides and oblique angles., Image URL: http://mrmrsenglish.com/wp-content/uploads/2024/02/42-21.png\n",
      "Index: 43, Shape: Lune, Description: A crescent-shaped figure created by intersecting circles., Image URL: http://mrmrsenglish.com/wp-content/uploads/2024/02/43-22.png\n",
      "Index: 44, Shape: Triquetra, Description: A symmetrical triangular figure with three interlaced arcs., Image URL: http://mrmrsenglish.com/wp-content/uploads/2024/02/44-22.png\n",
      "Index: 45, Shape: Trefoil, Description: A three-lobed or three-leafed shape., Image URL: http://mrmrsenglish.com/wp-content/uploads/2024/02/45-20.png\n",
      "Index: 46, Shape: Lemniscate, Description: A figure-eight-shaped curve, often symbolizing infinity., Image URL: http://mrmrsenglish.com/wp-content/uploads/2024/02/46-20.png\n",
      "Index: 47, Shape: Mobius strip, Description: A surface with only one side and one boundary, is formed by twisting a strip of paper., Image URL: http://mrmrsenglish.com/wp-content/uploads/2024/02/47-20.png\n",
      "Index: 48, Shape: Cross, Description: Two intersecting lines or bars, typically forming a perpendicular shape., Image URL: http://mrmrsenglish.com/wp-content/uploads/2024/02/48-20.png\n",
      "Index: 49, Shape: Infinity symbol, Description: A sideways figure-eight symbol representing eternity., Image URL: http://mrmrsenglish.com/wp-content/uploads/2024/02/49-20.png\n",
      "Index: 50, Shape: Quatrefoil, Description: A four-lobed or four-petaled shape., Image URL: http://mrmrsenglish.com/wp-content/uploads/2024/02/50-20.png\n",
      "Index: 51, Shape: Reuleaux triangle, Description: A shape formed by the intersection of three circles of equal radius, creating a curve of constant width., Image URL: http://mrmrsenglish.com/wp-content/uploads/2024/02/51-20.png\n",
      "Index: 52, Shape: Cycloid, Description: The curve traced by a point on the circumference of a circle as it rolls along a straight line., Image URL: http://mrmrsenglish.com/wp-content/uploads/2024/02/52-20.png\n",
      "Index: 53, Shape: Epicycloid, Description: A curve traced by a point on the circumference of a circle as it rolls around the outside of another circle., Image URL: http://mrmrsenglish.com/wp-content/uploads/2024/02/53-20.png\n",
      "Index: 54, Shape: Hypocycloid, Description: A curve traced by a point on the circumference of a circle as it rolls around the inside of another circle., Image URL: http://mrmrsenglish.com/wp-content/uploads/2024/02/54-20.png\n",
      "Index: 55, Shape: Astroid, Description: A four-pointed star-shaped curve formed by the path of a point on a circle rolling along another circle., Image URL: http://mrmrsenglish.com/wp-content/uploads/2024/02/55-20.png\n",
      "Index: 56, Shape: Cardioid, Description: A heart-shaped curve traced by a point on a circle rolling around another fixed circle., Image URL: http://mrmrsenglish.com/wp-content/uploads/2024/02/56-20.png\n",
      "Index: 57, Shape: Nephroid, Description: A kidney-shaped curve formed by the path of a point on a circle rolling along another circle., Image URL: http://mrmrsenglish.com/wp-content/uploads/2024/02/57-21.png\n",
      "Index: 58, Shape: Spiral, Description: A curve that starts from a central point and gradually gets farther away as it revolves around the point., Image URL: http://mrmrsenglish.com/wp-content/uploads/2024/02/58-21.png\n",
      "Index: 59, Shape: Lissajous curve, Description: A complex, oscillating curve resulting from the intersection of two perpendicular sinusoidal curves., Image URL: http://mrmrsenglish.com/wp-content/uploads/2024/02/59-21.png\n",
      "Index: 60, Shape: Rose curve, Description: A petal-shaped curve characterized by specific equations involving trigonometric functions., Image URL: http://mrmrsenglish.com/wp-content/uploads/2024/02/60-21.png\n",
      "Index: 61, Shape: Limaçon, Description: A flattened loop-shaped curve., Image URL: http://mrmrsenglish.com/wp-content/uploads/2024/02/61-19.png\n",
      "Index: 62, Shape: Hippopede, Description: A figure-eight-shaped curve., Image URL: http://mrmrsenglish.com/wp-content/uploads/2024/02/62-19.png\n",
      "Index: 63, Shape: Strophoid, Description: A looped curve with a straight tail., Image URL: http://mrmrsenglish.com/wp-content/uploads/2024/02/63-19.png\n",
      "Index: 64, Shape: Witch of Agnesi, Description: A flattened loop-shaped curve., Image URL: http://mrmrsenglish.com/wp-content/uploads/2024/02/64-19.png\n",
      "Index: 65, Shape: Triskele, Description: A motif with three interlocked spirals., Image URL: http://mrmrsenglish.com/wp-content/uploads/2024/02/65-19.png\n",
      "Index: 66, Shape: Hyperbola, Description: A curve with two separate parts., Image URL: http://mrmrsenglish.com/wp-content/uploads/2024/02/66-19.png\n",
      "Index: 67, Shape: Parabola, Description: A U-shaped curve., Image URL: http://mrmrsenglish.com/wp-content/uploads/2024/02/67-19.png\n",
      "Index: 68, Shape: Archimedean spiral, Description: A spiral with constant separation between turns., Image URL: http://mrmrsenglish.com/wp-content/uploads/2024/02/68-19.png\n",
      "Index: 69, Shape: Fermat’s spiral, Description: A spiral defined by polar equations., Image URL: http://mrmrsenglish.com/wp-content/uploads/2024/02/69-19.png\n",
      "Index: 70, Shape: Sine wave, Description: A wave resembling the graph of the sine function., Image URL: http://mrmrsenglish.com/wp-content/uploads/2024/02/70-18.png\n",
      "Index: 71, Shape: Cosine wave, Description: A wave resembling the graph of the cosine function., Image URL: http://mrmrsenglish.com/wp-content/uploads/2024/02/71-18.png\n",
      "Index: 72, Shape: Square wave, Description: A wave with sharp, square-shaped oscillations., Image URL: http://mrmrsenglish.com/wp-content/uploads/2024/02/72-18.png\n",
      "Index: 73, Shape: Sawtooth wave, Description: A wave with linear rise and abrupt drop., Image URL: http://mrmrsenglish.com/wp-content/uploads/2024/02/73-17.png\n",
      "Index: 74, Shape: Fractal, Description: A complex geometric shape with self-similar patterns., Image URL: http://mrmrsenglish.com/wp-content/uploads/2024/02/74-18.png\n",
      "Index: 75, Shape: Koch snowflake, Description: A fractal curve made of smaller triangles., Image URL: http://mrmrsenglish.com/wp-content/uploads/2024/02/75-18.png\n",
      "Index: 76, Shape: Sierpinski triangle, Description: A fractal shape formed by dividing triangles., Image URL: http://mrmrsenglish.com/wp-content/uploads/2024/02/76-17.png\n",
      "Index: 77, Shape: Mandelbrot set, Description: A famous fractal with intricate patterns., Image URL: http://mrmrsenglish.com/wp-content/uploads/2024/02/77-17.png\n",
      "Index: 78, Shape: Julia set, Description: Fractal shapes associated with complex numbers., Image URL: http://mrmrsenglish.com/wp-content/uploads/2024/02/78-17.png\n",
      "Index: 79, Shape: Cantor set, Description: A fractal set of points on a line segment., Image URL: http://mrmrsenglish.com/wp-content/uploads/2024/02/79-17.png\n",
      "Index: 80, Shape: Apollonian gasket, Description: A fractal shape made by inscribing circles., Image URL: http://mrmrsenglish.com/wp-content/uploads/2024/02/80-17.png\n"
     ]
    }
   ],
   "source": [
    "soup = BeautifulSoup(response.content, 'html.parser')\n",
    "\n",
    "selectors = [\n",
    "    '#post-3072 > div.entry-content > ul:nth-child(8)',  \n",
    "    '#post-3072 > div.entry-content > ul:nth-child(13)', \n",
    "    '#post-3072 > div.entry-content > div.flex-1.overflow-hidden > div > div > div > div > div > div > div > div > div > div > div > ul',  \n",
    "    '#post-3072 > div.entry-content > ul:nth-child(22)'  \n",
    "]\n",
    "\n",
    "parent = os.path.abspath(os.path.join(os.getcwd(), '..')) \n",
    "path = os.path.join(parent, 'data', 'scraped_shapes.csv')\n",
    "\n",
    "with open(path, mode='w', newline='', encoding='utf-8') as file:\n",
    "    writer = csv.writer(file)\n",
    "    writer.writerow(['Index', 'Shape', 'Description', 'Image URL'])\n",
    "    index = 1\n",
    "\n",
    "    for selector in selectors:\n",
    "        shapes = soup.select_one(selector)\n",
    "\n",
    "        for li in shapes.find_all('li'):\n",
    "            shape = li.strong.text \n",
    "            description = li.text.split(':')[1].strip() \n",
    "            img = li.find('img')\n",
    "            img_url = img.get('data-lazy-src') or img.get('src')\n",
    "\n",
    "            print(f\"Index: {index}, Shape: {shape}, Description: {description}, Image URL: {img_url}\")\n",
    "\n",
    "            writer.writerow([index, shape, description, img_url])\n",
    "            \n",
    "            index += 1"
   ]
  },
  {
   "cell_type": "code",
   "execution_count": 5,
   "metadata": {},
   "outputs": [],
   "source": [
    "parent = os.path.abspath(os.path.join(os.getcwd(), '..'))  \n",
    "path = os.path.join(parent, 'data', 'scraped_shapes.csv')\n",
    "save = os.path.join(parent, 'data', 'shapes_with_colour.csv')\n",
    "\n",
    "df = pd.read_csv(path)\n",
    "img_url = df.columns[-1]\n",
    "colour = []\n",
    "\n",
    "for url in df[img_url]:\n",
    "    response = requests.get(url)\n",
    "    img = BytesIO(response.content)\n",
    "    ct = ColorThief(img)\n",
    "    dominant = ct.get_color(quality=1)\n",
    "    colour.append(dominant)\n",
    "\n",
    "df[['R', 'G', 'B']] = pd.DataFrame(colour, index=df.index)\n",
    "\n",
    "df.to_csv(save, index=False)"
   ]
  }
 ],
 "metadata": {
  "kernelspec": {
   "display_name": "keji",
   "language": "python",
   "name": "python3"
  },
  "language_info": {
   "codemirror_mode": {
    "name": "ipython",
    "version": 3
   },
   "file_extension": ".py",
   "mimetype": "text/x-python",
   "name": "python",
   "nbconvert_exporter": "python",
   "pygments_lexer": "ipython3",
   "version": "3.8.20"
  }
 },
 "nbformat": 4,
 "nbformat_minor": 2
}
