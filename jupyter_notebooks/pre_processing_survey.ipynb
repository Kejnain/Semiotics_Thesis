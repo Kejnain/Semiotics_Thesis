{
 "cells": [
  {
   "cell_type": "code",
   "execution_count": null,
   "metadata": {},
   "outputs": [],
   "source": [
    "import os\n",
    "import pandas as pd\n",
    "\n",
    "parent = os.path.abspath(os.path.join(os.getcwd(), '..'))\n",
    "path = os.path.join(parent, 'data', 'survey_responses.csv')\n",
    "save = os.path.join(parent, 'data', 'survey_cleaned.csv')\n",
    "\n",
    "read = pd.read_csv(path)\n",
    "read = read.applymap(lambda x: x.lower() if isinstance(x, str) else x)\n",
    "\n",
    "emotions = [\n",
    "    \"admiration\", \"amusement\", \"anger\", \"annoyance\", \"approval\", \"caring\", \n",
    "    \"confusion\", \"curiosity\", \"desire\", \"disappointment\", \"disapproval\", \n",
    "    \"disgust\", \"embarrassment\", \"excitement\", \"fear\", \"gratitude\", \"grief\", \n",
    "    \"joy\", \"love\", \"nervousness\", \"optimism\", \"pride\", \"realization\", \n",
    "    \"relief\", \"remorse\", \"sadness\", \"surprise\", \"neutral\"\n",
    "]\n",
    "\n",
    "columns = [\"Emotions\"] + list(range(1, 81))\n",
    "df = pd.DataFrame(0, index=emotions, columns=columns[1:]) \n",
    "df.index.name = \"Emotions\"\n",
    "\n",
    "for idx, col in enumerate(read.columns[1:], start=1):\n",
    "    counts = read[col].value_counts()\n",
    "        \n",
    "    for emotion, count in counts.items():\n",
    "        if emotion in emotions:\n",
    "            df.loc[emotion, idx] = count\n",
    "\n",
    "df = df.div(df.sum(axis=0), axis=1) * 100\n",
    "df.to_csv(save, index=True)"
   ]
  },
  {
   "cell_type": "code",
   "execution_count": null,
   "metadata": {},
   "outputs": [],
   "source": [
    "parent = os.path.abspath(os.path.join(os.getcwd(), '..'))\n",
    "shapes_path = os.path.join(parent, 'data', 'shapes_with_colour.csv')\n",
    "path = os.path.join(parent, 'data', 'survey_cleaned.csv')\n",
    "save = os.path.join(parent, 'data', 'shapes.csv')\n",
    "\n",
    "shapes_with_colour = pd.read_csv(shapes_path)\n",
    "survey_cleaned = pd.read_csv(path)\n",
    "\n",
    "reshape = survey_cleaned.iloc[:, 1:].T  \n",
    "reshape.columns = survey_cleaned.index \n",
    "reshape.index = reshape.index.astype(int)  \n",
    "\n",
    "reshape.columns = emotions  \n",
    "\n",
    "reshape = reshape.reset_index(names='Index')\n",
    "\n",
    "merged_df = pd.merge(shapes_with_colour, reshape, on='Index', how='left') \n",
    "\n",
    "merged_df.to_csv(save, index=False)"
   ]
  }
 ],
 "metadata": {
  "kernelspec": {
   "display_name": "keji",
   "language": "python",
   "name": "python3"
  },
  "language_info": {
   "codemirror_mode": {
    "name": "ipython",
    "version": 3
   },
   "file_extension": ".py",
   "mimetype": "text/x-python",
   "name": "python",
   "nbconvert_exporter": "python",
   "pygments_lexer": "ipython3",
   "version": "3.8.20"
  }
 },
 "nbformat": 4,
 "nbformat_minor": 2
}
