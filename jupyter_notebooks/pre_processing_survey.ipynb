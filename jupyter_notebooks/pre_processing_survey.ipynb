{
 "cells": [
  {
   "cell_type": "code",
   "execution_count": 13,
   "metadata": {},
   "outputs": [],
   "source": [
    "import pandas as pd\n",
    "import os\n",
    "\n",
    "parent = os.path.abspath(os.path.join(os.getcwd(), '..'))\n",
    "path = os.path.join(parent, 'data', 'survey_responses.csv')\n",
    "save = os.path.join(parent, 'data', 'survey_cleaned.csv')\n",
    "read = pd.read_csv(path)\n",
    "\n",
    "emotions = [\n",
    "    \"Admiration\", \"Amusement\", \"Anger\", \"Annoyance\", \"Approval\", \"Caring\", \n",
    "    \"Confusion\", \"Curiosity\", \"Desire\", \"Disappointment\", \"Disapproval\", \n",
    "    \"Disgust\", \"Embarassment\", \"Excitement\", \"Fear\", \"Gratitude\", \"Grief\", \n",
    "    \"Joy\", \"Love\", \"Nervousness\", \"Optimism\", \"Pride\", \"Realization\", \n",
    "    \"Relief\", \"Remorse\", \"Sadness\", \"Suprise\", \"Neutral\"\n",
    "]\n",
    "\n",
    "columns = [\"Emotions\"] + list(range(1, 81))\n",
    "df = pd.DataFrame(0, index=emotions, columns=columns[1:]) \n",
    "df.index.name = \"Emotions\"\n",
    "\n",
    "for idx, col in enumerate(read.columns[1:], start=1):\n",
    "    counts = read[col].value_counts()\n",
    "        \n",
    "    for emotion, count in counts.items():\n",
    "        if emotion in emotions:\n",
    "            df.loc[emotion, idx] = count\n",
    "\n",
    "df = df.div(df.sum(axis=0), axis=1) * 100\n",
    "\n",
    "df.to_csv(save, index=True)"
   ]
  },
  {
   "cell_type": "code",
   "execution_count": 14,
   "metadata": {},
   "outputs": [],
   "source": [
    "path = os.path.join(parent, 'data', 'shapes_with_colour.csv')\n",
    "save = os.path.join(parent, 'data', 'shapes.csv')\n",
    "read = pd.read_csv(path)\n",
    "\n",
    "reshape = df.iloc[:, 1:].T  \n",
    "reshape.columns = df.index  \n",
    "reshape.index = reshape.index.astype(int)\n",
    "\n",
    "reshape = reshape.reset_index(names='Index')\n",
    "df = pd.merge(read, reshape, on='Index', how='left')\n",
    "\n",
    "df.to_csv(save, index=False)\n"
   ]
  }
 ],
 "metadata": {
  "kernelspec": {
   "display_name": "pytorch_env",
   "language": "python",
   "name": "python3"
  },
  "language_info": {
   "codemirror_mode": {
    "name": "ipython",
    "version": 3
   },
   "file_extension": ".py",
   "mimetype": "text/x-python",
   "name": "python",
   "nbconvert_exporter": "python",
   "pygments_lexer": "ipython3",
   "version": "3.8.20"
  }
 },
 "nbformat": 4,
 "nbformat_minor": 2
}
