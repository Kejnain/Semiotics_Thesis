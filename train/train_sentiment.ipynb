{
 "cells": [
  {
   "cell_type": "code",
   "execution_count": null,
   "metadata": {},
   "outputs": [],
   "source": [
    "import os\n",
    "import re\n",
    "import nltk\n",
    "import pandas as pd\n",
    "import matplotlib.pyplot as plt\n",
    "import pickle\n",
    "import torch\n",
    "from sklearn.model_selection import train_test_split\n",
    "from sklearn.pipeline import Pipeline\n",
    "from sklearn.preprocessing import StandardScaler\n",
    "from sklearn.feature_extraction.text import TfidfVectorizer\n",
    "from sklearn.ensemble import RandomForestClassifier\n",
    "from sklearn.multioutput import MultiOutputClassifier\n",
    "from sklearn.model_selection import GridSearchCV\n",
    "from sklearn.metrics import classification_report, accuracy_score\n",
    "from sklearn import set_config\n",
    "\n",
    "nltk.download('stopwords')\n",
    "nltk.download('punkt')\n",
    "nltk.download('punkt_tab')"
   ]
  },
  {
   "cell_type": "code",
   "execution_count": null,
   "metadata": {},
   "outputs": [],
   "source": [
    "print(torch.cuda.is_available()) \n",
    "print(torch.cuda.device_count()) \n",
    "print(torch.cuda.get_device_name(0)) "
   ]
  },
  {
   "cell_type": "code",
   "execution_count": null,
   "metadata": {},
   "outputs": [
    {
     "name": "stdout",
     "output_type": "stream",
     "text": [
      "                                                text       id  \\\n",
      "0                                    That game hurt.  eew5j0j   \n",
      "1   >sexuality shouldn’t be a grouping category I...  eemcysk   \n",
      "2     You do right, if you don't care then fuck 'em!  ed2mah1   \n",
      "3                                 Man I love reddit.  eeibobj   \n",
      "4  [NAME] was nowhere near them, he was by the Fa...  eda6yn6   \n",
      "\n",
      "                author            subreddit    link_id   parent_id  \\\n",
      "0                Brdd9                  nrl  t3_ajis4z  t1_eew18eq   \n",
      "1          TheGreen888     unpopularopinion  t3_ai4q37   t3_ai4q37   \n",
      "2             Labalool          confessions  t3_abru74  t1_ed2m7g7   \n",
      "3        MrsRobertshaw             facepalm  t3_ahulml   t3_ahulml   \n",
      "4  American_Fascist713  starwarsspeculation  t3_ackt2f  t1_eda65q2   \n",
      "\n",
      "    created_utc  rater_id  example_very_unclear  admiration  ...  love  \\\n",
      "0  1.548381e+09         1                 False           0  ...     0   \n",
      "1  1.548084e+09        37                  True           0  ...     0   \n",
      "2  1.546428e+09        37                 False           0  ...     0   \n",
      "3  1.547965e+09        18                 False           0  ...     1   \n",
      "4  1.546669e+09         2                 False           0  ...     0   \n",
      "\n",
      "   nervousness  optimism  pride  realization  relief  remorse  sadness  \\\n",
      "0            0         0      0            0       0        0        1   \n",
      "1            0         0      0            0       0        0        0   \n",
      "2            0         0      0            0       0        0        0   \n",
      "3            0         0      0            0       0        0        0   \n",
      "4            0         0      0            0       0        0        0   \n",
      "\n",
      "   surprise  neutral  \n",
      "0         0        0  \n",
      "1         0        0  \n",
      "2         0        1  \n",
      "3         0        0  \n",
      "4         0        1  \n",
      "\n",
      "[5 rows x 37 columns]\n"
     ]
    }
   ],
   "source": [
    "parent = os.path.abspath(os.path.join(os.getcwd(), '..'))\n",
    "data = 'data'\n",
    "path = os.path.join(parent, data, 'goemotions.csv')\n",
    "df = pd.read_csv(path)\n",
    "print(df.head())"
   ]
  },
  {
   "cell_type": "code",
   "execution_count": 3,
   "metadata": {},
   "outputs": [
    {
     "name": "stdout",
     "output_type": "stream",
     "text": [
      "Index(['text', 'id', 'author', 'subreddit', 'link_id', 'parent_id',\n",
      "       'created_utc', 'rater_id', 'example_very_unclear', 'admiration',\n",
      "       'amusement', 'anger', 'annoyance', 'approval', 'caring', 'confusion',\n",
      "       'curiosity', 'desire', 'disappointment', 'disapproval', 'disgust',\n",
      "       'embarrassment', 'excitement', 'fear', 'gratitude', 'grief', 'joy',\n",
      "       'love', 'nervousness', 'optimism', 'pride', 'realization', 'relief',\n",
      "       'remorse', 'sadness', 'surprise', 'neutral'],\n",
      "      dtype='object')\n",
      "(70000, 37)\n"
     ]
    }
   ],
   "source": [
    "print(df.columns)\n",
    "print(df.shape)"
   ]
  },
  {
   "cell_type": "code",
   "execution_count": 4,
   "metadata": {},
   "outputs": [],
   "source": [
    "def processText(text):\n",
    "    text = text.lower()\n",
    "    text = re.sub(r'[^a-zA-Z\\s]', '', text)\n",
    "    tokens = nltk.word_tokenize(text)\n",
    "    stop_words = set(nltk.corpus.stopwords.words('english'))\n",
    "    tokens = [token for token in tokens if token not in stop_words]\n",
    "    \n",
    "    return ' '.join(tokens)"
   ]
  },
  {
   "cell_type": "code",
   "execution_count": null,
   "metadata": {},
   "outputs": [
    {
     "name": "stdout",
     "output_type": "stream",
     "text": [
      "admiration         5647\n",
      "amusement          3081\n",
      "anger              2589\n",
      "annoyance          4443\n",
      "approval           5928\n",
      "caring             1988\n",
      "confusion          2471\n",
      "curiosity          3267\n",
      "desire             1248\n",
      "disappointment     2771\n",
      "disapproval        3774\n",
      "disgust            1704\n",
      "embarrassment       817\n",
      "excitement         1900\n",
      "fear               1048\n",
      "gratitude          3863\n",
      "grief               227\n",
      "joy                2607\n",
      "love               2745\n",
      "nervousness         598\n",
      "optimism           2887\n",
      "pride               452\n",
      "realization        2867\n",
      "relief              452\n",
      "remorse             849\n",
      "sadness            2193\n",
      "surprise           1806\n",
      "neutral           18423\n",
      "dtype: int64\n",
      "admiration        0\n",
      "amusement         0\n",
      "anger             0\n",
      "annoyance         0\n",
      "approval          0\n",
      "caring            0\n",
      "confusion         0\n",
      "curiosity         0\n",
      "desire            0\n",
      "disappointment    0\n",
      "disapproval       0\n",
      "disgust           0\n",
      "embarrassment     0\n",
      "excitement        0\n",
      "fear              0\n",
      "gratitude         0\n",
      "grief             0\n",
      "joy               0\n",
      "love              0\n",
      "nervousness       0\n",
      "optimism          0\n",
      "pride             0\n",
      "realization       0\n",
      "relief            0\n",
      "remorse           0\n",
      "sadness           0\n",
      "surprise          0\n",
      "neutral           0\n",
      "dtype: int64\n"
     ]
    }
   ],
   "source": [
    "class_counts = y.sum(axis=0)\n",
    "min_counts = y.min(axis=0) \n",
    "\n",
    "print(class_counts)\n",
    "print(min_counts)"
   ]
  },
  {
   "cell_type": "code",
   "execution_count": 16,
   "metadata": {},
   "outputs": [
    {
     "name": "stdout",
     "output_type": "stream",
     "text": [
      "   admiration  amusement  anger  annoyance  approval  caring  confusion  \\\n",
      "0           0          0      0          0         0       0          0   \n",
      "1           0          0      0          0         0       0          0   \n",
      "2           0          0      0          0         0       0          0   \n",
      "3           0          0      0          0         0       0          0   \n",
      "4           0          0      0          0         0       0          0   \n",
      "\n",
      "   curiosity  desire  disappointment  ...  love  nervousness  optimism  pride  \\\n",
      "0          0       0               0  ...     0            0         0      0   \n",
      "1          0       0               0  ...     0            0         0      0   \n",
      "2          0       0               0  ...     0            0         0      0   \n",
      "3          0       0               0  ...     1            0         0      0   \n",
      "4          0       0               0  ...     0            0         0      0   \n",
      "\n",
      "   realization  relief  remorse  sadness  surprise  neutral  \n",
      "0            0       0        0        1         0        0  \n",
      "1            0       0        0        0         0        0  \n",
      "2            0       0        0        0         0        1  \n",
      "3            0       0        0        0         0        0  \n",
      "4            0       0        0        0         0        1  \n",
      "\n",
      "[5 rows x 28 columns]\n"
     ]
    }
   ],
   "source": [
    "print(y.head())\n"
   ]
  },
  {
   "cell_type": "code",
   "execution_count": 17,
   "metadata": {},
   "outputs": [
    {
     "name": "stdout",
     "output_type": "stream",
     "text": [
      "admiration\n",
      "0    64353\n",
      "1     5647\n",
      "Name: count, dtype: int64\n"
     ]
    }
   ],
   "source": [
    "label_counts = y.iloc[:, 0].value_counts()\n",
    "print(label_counts)"
   ]
  },
  {
   "cell_type": "code",
   "execution_count": 18,
   "metadata": {},
   "outputs": [],
   "source": [
    "x = df['text'].apply(processText)\n",
    "y = df.iloc[:, 9:]\n",
    "\n",
    "X_train, X_test, y_train, y_test = train_test_split(\n",
    "    x, y, test_size=0.2, random_state=42, stratify=y.idxmax(axis=1)\n",
    ")"
   ]
  },
  {
   "cell_type": "code",
   "execution_count": null,
   "metadata": {},
   "outputs": [
    {
     "data": {
      "text/html": [
       "<style>#sk-container-id-1 {color: black;}#sk-container-id-1 pre{padding: 0;}#sk-container-id-1 div.sk-toggleable {background-color: white;}#sk-container-id-1 label.sk-toggleable__label {cursor: pointer;display: block;width: 100%;margin-bottom: 0;padding: 0.3em;box-sizing: border-box;text-align: center;}#sk-container-id-1 label.sk-toggleable__label-arrow:before {content: \"▸\";float: left;margin-right: 0.25em;color: #696969;}#sk-container-id-1 label.sk-toggleable__label-arrow:hover:before {color: black;}#sk-container-id-1 div.sk-estimator:hover label.sk-toggleable__label-arrow:before {color: black;}#sk-container-id-1 div.sk-toggleable__content {max-height: 0;max-width: 0;overflow: hidden;text-align: left;background-color: #f0f8ff;}#sk-container-id-1 div.sk-toggleable__content pre {margin: 0.2em;color: black;border-radius: 0.25em;background-color: #f0f8ff;}#sk-container-id-1 input.sk-toggleable__control:checked~div.sk-toggleable__content {max-height: 200px;max-width: 100%;overflow: auto;}#sk-container-id-1 input.sk-toggleable__control:checked~label.sk-toggleable__label-arrow:before {content: \"▾\";}#sk-container-id-1 div.sk-estimator input.sk-toggleable__control:checked~label.sk-toggleable__label {background-color: #d4ebff;}#sk-container-id-1 div.sk-label input.sk-toggleable__control:checked~label.sk-toggleable__label {background-color: #d4ebff;}#sk-container-id-1 input.sk-hidden--visually {border: 0;clip: rect(1px 1px 1px 1px);clip: rect(1px, 1px, 1px, 1px);height: 1px;margin: -1px;overflow: hidden;padding: 0;position: absolute;width: 1px;}#sk-container-id-1 div.sk-estimator {font-family: monospace;background-color: #f0f8ff;border: 1px dotted black;border-radius: 0.25em;box-sizing: border-box;margin-bottom: 0.5em;}#sk-container-id-1 div.sk-estimator:hover {background-color: #d4ebff;}#sk-container-id-1 div.sk-parallel-item::after {content: \"\";width: 100%;border-bottom: 1px solid gray;flex-grow: 1;}#sk-container-id-1 div.sk-label:hover label.sk-toggleable__label {background-color: #d4ebff;}#sk-container-id-1 div.sk-serial::before {content: \"\";position: absolute;border-left: 1px solid gray;box-sizing: border-box;top: 0;bottom: 0;left: 50%;z-index: 0;}#sk-container-id-1 div.sk-serial {display: flex;flex-direction: column;align-items: center;background-color: white;padding-right: 0.2em;padding-left: 0.2em;position: relative;}#sk-container-id-1 div.sk-item {position: relative;z-index: 1;}#sk-container-id-1 div.sk-parallel {display: flex;align-items: stretch;justify-content: center;background-color: white;position: relative;}#sk-container-id-1 div.sk-item::before, #sk-container-id-1 div.sk-parallel-item::before {content: \"\";position: absolute;border-left: 1px solid gray;box-sizing: border-box;top: 0;bottom: 0;left: 50%;z-index: -1;}#sk-container-id-1 div.sk-parallel-item {display: flex;flex-direction: column;z-index: 1;position: relative;background-color: white;}#sk-container-id-1 div.sk-parallel-item:first-child::after {align-self: flex-end;width: 50%;}#sk-container-id-1 div.sk-parallel-item:last-child::after {align-self: flex-start;width: 50%;}#sk-container-id-1 div.sk-parallel-item:only-child::after {width: 0;}#sk-container-id-1 div.sk-dashed-wrapped {border: 1px dashed gray;margin: 0 0.4em 0.5em 0.4em;box-sizing: border-box;padding-bottom: 0.4em;background-color: white;}#sk-container-id-1 div.sk-label label {font-family: monospace;font-weight: bold;display: inline-block;line-height: 1.2em;}#sk-container-id-1 div.sk-label-container {text-align: center;}#sk-container-id-1 div.sk-container {/* jupyter's `normalize.less` sets `[hidden] { display: none; }` but bootstrap.min.css set `[hidden] { display: none !important; }` so we also need the `!important` here to be able to override the default hidden behavior on the sphinx rendered scikit-learn.org. See: https://github.com/scikit-learn/scikit-learn/issues/21755 */display: inline-block !important;position: relative;}#sk-container-id-1 div.sk-text-repr-fallback {display: none;}</style><div id=\"sk-container-id-1\" class=\"sk-top-container\"><div class=\"sk-text-repr-fallback\"><pre>Pipeline(steps=[(&#x27;tfidf&#x27;,\n",
       "                 TfidfVectorizer(max_df=0.95, max_features=20000, min_df=2,\n",
       "                                 ngram_range=(1, 3), strip_accents=&#x27;unicode&#x27;,\n",
       "                                 sublinear_tf=True)),\n",
       "                (&#x27;scaler&#x27;, StandardScaler(with_mean=False)),\n",
       "                (&#x27;classifier&#x27;,\n",
       "                 MultiOutputClassifier(estimator=RandomForestClassifier(class_weight=&#x27;balanced_subsample&#x27;,\n",
       "                                                                        max_depth=40,\n",
       "                                                                        min_samples_leaf=2,\n",
       "                                                                        min_samples_split=5,\n",
       "                                                                        n_estimators=400,\n",
       "                                                                        n_jobs=-1,\n",
       "                                                                        random_state=42)))])</pre><b>In a Jupyter environment, please rerun this cell to show the HTML representation or trust the notebook. <br />On GitHub, the HTML representation is unable to render, please try loading this page with nbviewer.org.</b></div><div class=\"sk-container\" hidden><div class=\"sk-item sk-dashed-wrapped\"><div class=\"sk-label-container\"><div class=\"sk-label sk-toggleable\"><input class=\"sk-toggleable__control sk-hidden--visually\" id=\"sk-estimator-id-1\" type=\"checkbox\" ><label for=\"sk-estimator-id-1\" class=\"sk-toggleable__label sk-toggleable__label-arrow\">Pipeline</label><div class=\"sk-toggleable__content\"><pre>Pipeline(steps=[(&#x27;tfidf&#x27;,\n",
       "                 TfidfVectorizer(max_df=0.95, max_features=20000, min_df=2,\n",
       "                                 ngram_range=(1, 3), strip_accents=&#x27;unicode&#x27;,\n",
       "                                 sublinear_tf=True)),\n",
       "                (&#x27;scaler&#x27;, StandardScaler(with_mean=False)),\n",
       "                (&#x27;classifier&#x27;,\n",
       "                 MultiOutputClassifier(estimator=RandomForestClassifier(class_weight=&#x27;balanced_subsample&#x27;,\n",
       "                                                                        max_depth=40,\n",
       "                                                                        min_samples_leaf=2,\n",
       "                                                                        min_samples_split=5,\n",
       "                                                                        n_estimators=400,\n",
       "                                                                        n_jobs=-1,\n",
       "                                                                        random_state=42)))])</pre></div></div></div><div class=\"sk-serial\"><div class=\"sk-item\"><div class=\"sk-estimator sk-toggleable\"><input class=\"sk-toggleable__control sk-hidden--visually\" id=\"sk-estimator-id-2\" type=\"checkbox\" ><label for=\"sk-estimator-id-2\" class=\"sk-toggleable__label sk-toggleable__label-arrow\">TfidfVectorizer</label><div class=\"sk-toggleable__content\"><pre>TfidfVectorizer(max_df=0.95, max_features=20000, min_df=2, ngram_range=(1, 3),\n",
       "                strip_accents=&#x27;unicode&#x27;, sublinear_tf=True)</pre></div></div></div><div class=\"sk-item\"><div class=\"sk-estimator sk-toggleable\"><input class=\"sk-toggleable__control sk-hidden--visually\" id=\"sk-estimator-id-3\" type=\"checkbox\" ><label for=\"sk-estimator-id-3\" class=\"sk-toggleable__label sk-toggleable__label-arrow\">StandardScaler</label><div class=\"sk-toggleable__content\"><pre>StandardScaler(with_mean=False)</pre></div></div></div><div class=\"sk-item sk-dashed-wrapped\"><div class=\"sk-label-container\"><div class=\"sk-label sk-toggleable\"><input class=\"sk-toggleable__control sk-hidden--visually\" id=\"sk-estimator-id-4\" type=\"checkbox\" ><label for=\"sk-estimator-id-4\" class=\"sk-toggleable__label sk-toggleable__label-arrow\">classifier: MultiOutputClassifier</label><div class=\"sk-toggleable__content\"><pre>MultiOutputClassifier(estimator=RandomForestClassifier(class_weight=&#x27;balanced_subsample&#x27;,\n",
       "                                                       max_depth=40,\n",
       "                                                       min_samples_leaf=2,\n",
       "                                                       min_samples_split=5,\n",
       "                                                       n_estimators=400,\n",
       "                                                       n_jobs=-1,\n",
       "                                                       random_state=42))</pre></div></div></div><div class=\"sk-parallel\"><div class=\"sk-parallel-item\"><div class=\"sk-item\"><div class=\"sk-label-container\"><div class=\"sk-label sk-toggleable\"><input class=\"sk-toggleable__control sk-hidden--visually\" id=\"sk-estimator-id-5\" type=\"checkbox\" ><label for=\"sk-estimator-id-5\" class=\"sk-toggleable__label sk-toggleable__label-arrow\">estimator: RandomForestClassifier</label><div class=\"sk-toggleable__content\"><pre>RandomForestClassifier(class_weight=&#x27;balanced_subsample&#x27;, max_depth=40,\n",
       "                       min_samples_leaf=2, min_samples_split=5,\n",
       "                       n_estimators=400, n_jobs=-1, random_state=42)</pre></div></div></div><div class=\"sk-serial\"><div class=\"sk-item\"><div class=\"sk-estimator sk-toggleable\"><input class=\"sk-toggleable__control sk-hidden--visually\" id=\"sk-estimator-id-6\" type=\"checkbox\" ><label for=\"sk-estimator-id-6\" class=\"sk-toggleable__label sk-toggleable__label-arrow\">RandomForestClassifier</label><div class=\"sk-toggleable__content\"><pre>RandomForestClassifier(class_weight=&#x27;balanced_subsample&#x27;, max_depth=40,\n",
       "                       min_samples_leaf=2, min_samples_split=5,\n",
       "                       n_estimators=400, n_jobs=-1, random_state=42)</pre></div></div></div></div></div></div></div></div></div></div></div></div>"
      ],
      "text/plain": [
       "Pipeline(steps=[('tfidf',\n",
       "                 TfidfVectorizer(max_df=0.95, max_features=20000, min_df=2,\n",
       "                                 ngram_range=(1, 3), strip_accents='unicode',\n",
       "                                 sublinear_tf=True)),\n",
       "                ('scaler', StandardScaler(with_mean=False)),\n",
       "                ('classifier',\n",
       "                 MultiOutputClassifier(estimator=RandomForestClassifier(class_weight='balanced_subsample',\n",
       "                                                                        max_depth=40,\n",
       "                                                                        min_samples_leaf=2,\n",
       "                                                                        min_samples_split=5,\n",
       "                                                                        n_estimators=400,\n",
       "                                                                        n_jobs=-1,\n",
       "                                                                        random_state=42)))])"
      ]
     },
     "execution_count": 19,
     "metadata": {},
     "output_type": "execute_result"
    }
   ],
   "source": [
    "pipeline = Pipeline([\n",
    "    ('tfidf', TfidfVectorizer(\n",
    "        max_features=20000,\n",
    "        ngram_range=(1, 3),\n",
    "        min_df=2,\n",
    "        max_df=0.95,\n",
    "        strip_accents='unicode',\n",
    "        use_idf=True,\n",
    "        smooth_idf=True,\n",
    "        sublinear_tf=True\n",
    "    )),\n",
    "    ('scaler', StandardScaler(with_mean=False)),\n",
    "    ('classifier', MultiOutputClassifier(RandomForestClassifier(\n",
    "        n_estimators=400,\n",
    "        max_depth=40,\n",
    "        min_samples_split=5,\n",
    "        min_samples_leaf=2,\n",
    "        class_weight='balanced_subsample',\n",
    "        bootstrap=True,\n",
    "        random_state=42,\n",
    "        n_jobs=-1\n",
    "    )))\n",
    "])\n",
    "\n",
    "set_config(display='diagram')\n",
    "pipeline"
   ]
  },
  {
   "cell_type": "code",
   "execution_count": 20,
   "metadata": {},
   "outputs": [],
   "source": [
    "param_grid = {\n",
    "    'tfidf__max_features': [10000, 15000, 20000],\n",
    "    'tfidf__ngram_range': [(1, 1), (1, 2), (1, 3)],\n",
    "    'classifier__estimator__n_estimators': [200, 400],\n",
    "    'classifier__estimator__max_depth': [20, 40, None],\n",
    "    'classifier__estimator__min_samples_split': [2, 5],\n",
    "    'classifier__estimator__min_samples_leaf': [1, 2]\n",
    "}\n",
    "grid_search = GridSearchCV(\n",
    "    pipeline,\n",
    "    param_grid,\n",
    "    cv=5,\n",
    "    n_jobs=-1,\n",
    "    verbose=2,\n",
    "    scoring='accuracy',\n",
    "    error_score='raise'\n",
    ")"
   ]
  },
  {
   "cell_type": "code",
   "execution_count": null,
   "metadata": {},
   "outputs": [
    {
     "name": "stdout",
     "output_type": "stream",
     "text": [
      "Fitting 5 folds for each of 216 candidates, totalling 1080 fits\n"
     ]
    }
   ],
   "source": [
    "device = torch.device('cuda' if torch.cuda.is_available() else 'cpu')\n",
    "\n",
    "X_train = torch.tensor(X_train).to(device)\n",
    "y_train = torch.tensor(y_train.values).to(device)\n",
    "X_test = torch.tensor(X_test).to(device)\n",
    "y_test = torch.tensor(y_test.values).to(device)\n",
    "\n",
    "history = grid_search.fit(X_train, y_train)"
   ]
  },
  {
   "cell_type": "code",
   "execution_count": 18,
   "metadata": {},
   "outputs": [
    {
     "name": "stdout",
     "output_type": "stream",
     "text": [
      "\n",
      "Classification Report:\n",
      "                precision    recall  f1-score   support\n",
      "\n",
      "    admiration       0.39      0.59      0.47      1129\n",
      "     amusement       0.54      0.68      0.60       626\n",
      "         anger       0.25      0.43      0.32       534\n",
      "     annoyance       0.16      0.37      0.23       884\n",
      "      approval       0.20      0.33      0.25      1212\n",
      "        caring       0.14      0.33      0.20       380\n",
      "     confusion       0.14      0.35      0.20       505\n",
      "     curiosity       0.16      0.24      0.19       615\n",
      "        desire       0.19      0.45      0.26       240\n",
      "disappointment       0.13      0.28      0.18       560\n",
      "   disapproval       0.16      0.40      0.23       787\n",
      "       disgust       0.17      0.42      0.25       343\n",
      " embarrassment       0.11      0.28      0.16       163\n",
      "    excitement       0.17      0.35      0.23       376\n",
      "          fear       0.32      0.41      0.36       206\n",
      "     gratitude       0.68      0.80      0.74       739\n",
      "         grief       0.18      0.18      0.18        50\n",
      "           joy       0.27      0.42      0.33       513\n",
      "          love       0.49      0.74      0.59       565\n",
      "   nervousness       0.11      0.17      0.13       120\n",
      "      optimism       0.29      0.40      0.34       581\n",
      "         pride       0.09      0.08      0.08        91\n",
      "   realization       0.11      0.23      0.14       582\n",
      "        relief       0.10      0.18      0.13        89\n",
      "       remorse       0.38      0.54      0.45       168\n",
      "       sadness       0.25      0.45      0.32       424\n",
      "      surprise       0.23      0.42      0.30       356\n",
      "       neutral       0.37      0.80      0.50      3699\n",
      "\n",
      "     micro avg       0.27      0.51      0.36     16537\n",
      "     macro avg       0.24      0.40      0.30     16537\n",
      "  weighted avg       0.29      0.51      0.37     16537\n",
      "   samples avg       0.33      0.53      0.38     16537\n",
      "\n",
      "\n",
      "Accuracy Score: 0.15314285714285714\n"
     ]
    },
    {
     "name": "stderr",
     "output_type": "stream",
     "text": [
      "c:\\Users\\TTill\\Anaconda3\\envs\\pytorch_env\\lib\\site-packages\\sklearn\\metrics\\_classification.py:1471: UndefinedMetricWarning: Precision and F-score are ill-defined and being set to 0.0 in samples with no predicted labels. Use `zero_division` parameter to control this behavior.\n",
      "  _warn_prf(average, modifier, msg_start, len(result))\n",
      "c:\\Users\\TTill\\Anaconda3\\envs\\pytorch_env\\lib\\site-packages\\sklearn\\metrics\\_classification.py:1471: UndefinedMetricWarning: Recall and F-score are ill-defined and being set to 0.0 in samples with no true labels. Use `zero_division` parameter to control this behavior.\n",
      "  _warn_prf(average, modifier, msg_start, len(result))\n"
     ]
    }
   ],
   "source": [
    "y_pred = grid_search.predict(X_test)\n",
    "print(\"\\nClassification Report:\")\n",
    "print(classification_report(y_test, y_pred, target_names=labels.columns))\n",
    "print(\"\\nAccuracy Score:\", accuracy_score(y_test, y_pred))"
   ]
  },
  {
   "cell_type": "code",
   "execution_count": 15,
   "metadata": {},
   "outputs": [
    {
     "name": "stdout",
     "output_type": "stream",
     "text": [
      "\n",
      "Emotion accuracy:\n",
      "admiration: 0.8929\n",
      "amusement: 0.9598\n",
      "anger: 0.9298\n",
      "annoyance: 0.8416\n",
      "approval: 0.8304\n",
      "caring: 0.9269\n",
      "confusion: 0.9021\n",
      "curiosity: 0.9101\n",
      "desire: 0.9572\n",
      "disappointment: 0.8966\n",
      "disapproval: 0.8509\n",
      "disgust: 0.9371\n",
      "embarrassment: 0.9659\n",
      "excitement: 0.9364\n",
      "fear: 0.9785\n",
      "gratitude: 0.9698\n",
      "grief: 0.9942\n",
      "joy: 0.9381\n",
      "love: 0.9590\n",
      "nervousness: 0.9811\n",
      "optimism: 0.9349\n",
      "pride: 0.9887\n",
      "realization: 0.8866\n",
      "relief: 0.9843\n",
      "remorse: 0.9841\n",
      "sadness: 0.9424\n",
      "surprise: 0.9497\n",
      "neutral: 0.5852\n"
     ]
    }
   ],
   "source": [
    "print(\"\\nEmotion accuracy:\")\n",
    "per_emotion_accuracy = {}\n",
    "for i, emotion in enumerate(labels.columns):\n",
    "    acc = accuracy_score(y_test.iloc[:, i], y_pred[:, i])\n",
    "    per_emotion_accuracy[emotion] = acc\n",
    "    print(f\"{emotion}: {acc:.4f}\")"
   ]
  }
 ],
 "metadata": {
  "kernelspec": {
   "display_name": "keji",
   "language": "python",
   "name": "python3"
  },
  "language_info": {
   "codemirror_mode": {
    "name": "ipython",
    "version": 3
   },
   "file_extension": ".py",
   "mimetype": "text/x-python",
   "name": "python",
   "nbconvert_exporter": "python",
   "pygments_lexer": "ipython3",
   "version": "3.8.20"
  }
 },
 "nbformat": 4,
 "nbformat_minor": 2
}
