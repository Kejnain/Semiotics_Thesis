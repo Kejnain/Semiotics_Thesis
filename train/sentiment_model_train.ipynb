{
 "cells": [
  {
   "cell_type": "code",
   "execution_count": 12,
   "metadata": {},
   "outputs": [
    {
     "name": "stderr",
     "output_type": "stream",
     "text": [
      "[nltk_data] Downloading package stopwords to\n",
      "[nltk_data]     C:\\Users\\TTill\\AppData\\Roaming\\nltk_data...\n",
      "[nltk_data]   Package stopwords is already up-to-date!\n",
      "[nltk_data] Downloading package punkt to\n",
      "[nltk_data]     C:\\Users\\TTill\\AppData\\Roaming\\nltk_data...\n",
      "[nltk_data]   Package punkt is already up-to-date!\n",
      "[nltk_data] Downloading package punkt_tab to\n",
      "[nltk_data]     C:\\Users\\TTill\\AppData\\Roaming\\nltk_data...\n",
      "[nltk_data]   Package punkt_tab is already up-to-date!\n"
     ]
    },
    {
     "data": {
      "text/plain": [
       "True"
      ]
     },
     "execution_count": 12,
     "metadata": {},
     "output_type": "execute_result"
    }
   ],
   "source": [
    "import os\n",
    "import re\n",
    "import nltk\n",
    "import pandas as pd\n",
    "import matplotlib.pyplot as plt\n",
    "import pickle\n",
    "import torch\n",
    "import joblib\n",
    "from sklearn.model_selection import train_test_split\n",
    "from sklearn.pipeline import Pipeline\n",
    "from sklearn.preprocessing import StandardScaler\n",
    "from sklearn.feature_extraction.text import TfidfVectorizer\n",
    "from sklearn.preprocessing import MaxAbsScaler\n",
    "from sklearn.ensemble import RandomForestClassifier\n",
    "from sklearn.multioutput import MultiOutputClassifier\n",
    "from sklearn.model_selection import GridSearchCV\n",
    "from sklearn.metrics import classification_report, accuracy_score\n",
    "from sklearn import set_config\n",
    "\n",
    "nltk.download('stopwords')\n",
    "nltk.download('punkt')\n",
    "nltk.download('punkt_tab')"
   ]
  },
  {
   "cell_type": "code",
   "execution_count": 13,
   "metadata": {},
   "outputs": [
    {
     "name": "stdout",
     "output_type": "stream",
     "text": [
      "                                                text       id  \\\n",
      "0                                    That game hurt.  eew5j0j   \n",
      "1   >sexuality shouldn’t be a grouping category I...  eemcysk   \n",
      "2     You do right, if you don't care then fuck 'em!  ed2mah1   \n",
      "3                                 Man I love reddit.  eeibobj   \n",
      "4  [NAME] was nowhere near them, he was by the Fa...  eda6yn6   \n",
      "\n",
      "                author            subreddit    link_id   parent_id  \\\n",
      "0                Brdd9                  nrl  t3_ajis4z  t1_eew18eq   \n",
      "1          TheGreen888     unpopularopinion  t3_ai4q37   t3_ai4q37   \n",
      "2             Labalool          confessions  t3_abru74  t1_ed2m7g7   \n",
      "3        MrsRobertshaw             facepalm  t3_ahulml   t3_ahulml   \n",
      "4  American_Fascist713  starwarsspeculation  t3_ackt2f  t1_eda65q2   \n",
      "\n",
      "    created_utc  rater_id  example_very_unclear  admiration  ...  love  \\\n",
      "0  1.548381e+09         1                 False           0  ...     0   \n",
      "1  1.548084e+09        37                  True           0  ...     0   \n",
      "2  1.546428e+09        37                 False           0  ...     0   \n",
      "3  1.547965e+09        18                 False           0  ...     1   \n",
      "4  1.546669e+09         2                 False           0  ...     0   \n",
      "\n",
      "   nervousness  optimism  pride  realization  relief  remorse  sadness  \\\n",
      "0            0         0      0            0       0        0        1   \n",
      "1            0         0      0            0       0        0        0   \n",
      "2            0         0      0            0       0        0        0   \n",
      "3            0         0      0            0       0        0        0   \n",
      "4            0         0      0            0       0        0        0   \n",
      "\n",
      "   surprise  neutral  \n",
      "0         0        0  \n",
      "1         0        0  \n",
      "2         0        1  \n",
      "3         0        0  \n",
      "4         0        1  \n",
      "\n",
      "[5 rows x 37 columns]\n"
     ]
    }
   ],
   "source": [
    "parent = os.path.abspath(os.path.join(os.getcwd(), '..'))\n",
    "data = 'data'\n",
    "path = os.path.join(parent, data, 'goemotions.csv')\n",
    "df = pd.read_csv(path)\n",
    "print(df.head())"
   ]
  },
  {
   "cell_type": "code",
   "execution_count": 14,
   "metadata": {},
   "outputs": [
    {
     "name": "stdout",
     "output_type": "stream",
     "text": [
      "Index(['text', 'id', 'author', 'subreddit', 'link_id', 'parent_id',\n",
      "       'created_utc', 'rater_id', 'example_very_unclear', 'admiration',\n",
      "       'amusement', 'anger', 'annoyance', 'approval', 'caring', 'confusion',\n",
      "       'curiosity', 'desire', 'disappointment', 'disapproval', 'disgust',\n",
      "       'embarrassment', 'excitement', 'fear', 'gratitude', 'grief', 'joy',\n",
      "       'love', 'nervousness', 'optimism', 'pride', 'realization', 'relief',\n",
      "       'remorse', 'sadness', 'surprise', 'neutral'],\n",
      "      dtype='object')\n",
      "(70000, 37)\n"
     ]
    }
   ],
   "source": [
    "print(df.columns)\n",
    "print(df.shape)"
   ]
  },
  {
   "cell_type": "code",
   "execution_count": 17,
   "metadata": {},
   "outputs": [],
   "source": [
    "def processText(text):\n",
    "    text = text.lower()\n",
    "    text = re.sub(r'[^a-zA-Z\\s]', '', text)\n",
    "    tokens = nltk.word_tokenize(text)\n",
    "    stop_words = set(nltk.corpus.stopwords.words('english'))\n",
    "    tokens = [token for token in tokens if token not in stop_words]\n",
    "    \n",
    "    return ' '.join(tokens)"
   ]
  },
  {
   "cell_type": "code",
   "execution_count": 18,
   "metadata": {},
   "outputs": [],
   "source": [
    "x = df['text'].apply(processText)\n",
    "y = df.iloc[:, 9:]\n",
    "\n",
    "X_train, X_test, y_train, y_test = train_test_split(\n",
    "    x, y, test_size=0.2, random_state=42, stratify=y.idxmax(axis=1)\n",
    ")"
   ]
  },
  {
   "cell_type": "code",
   "execution_count": 19,
   "metadata": {},
   "outputs": [
    {
     "name": "stdout",
     "output_type": "stream",
     "text": [
      "admiration         5647\n",
      "amusement          3081\n",
      "anger              2589\n",
      "annoyance          4443\n",
      "approval           5928\n",
      "caring             1988\n",
      "confusion          2471\n",
      "curiosity          3267\n",
      "desire             1248\n",
      "disappointment     2771\n",
      "disapproval        3774\n",
      "disgust            1704\n",
      "embarrassment       817\n",
      "excitement         1900\n",
      "fear               1048\n",
      "gratitude          3863\n",
      "grief               227\n",
      "joy                2607\n",
      "love               2745\n",
      "nervousness         598\n",
      "optimism           2887\n",
      "pride               452\n",
      "realization        2867\n",
      "relief              452\n",
      "remorse             849\n",
      "sadness            2193\n",
      "surprise           1806\n",
      "neutral           18423\n",
      "dtype: int64\n",
      "admiration        0\n",
      "amusement         0\n",
      "anger             0\n",
      "annoyance         0\n",
      "approval          0\n",
      "caring            0\n",
      "confusion         0\n",
      "curiosity         0\n",
      "desire            0\n",
      "disappointment    0\n",
      "disapproval       0\n",
      "disgust           0\n",
      "embarrassment     0\n",
      "excitement        0\n",
      "fear              0\n",
      "gratitude         0\n",
      "grief             0\n",
      "joy               0\n",
      "love              0\n",
      "nervousness       0\n",
      "optimism          0\n",
      "pride             0\n",
      "realization       0\n",
      "relief            0\n",
      "remorse           0\n",
      "sadness           0\n",
      "surprise          0\n",
      "neutral           0\n",
      "dtype: int64\n"
     ]
    }
   ],
   "source": [
    "class_counts = y.sum(axis=0)\n",
    "min_counts = y.min(axis=0) \n",
    "\n",
    "print(class_counts)\n",
    "print(min_counts)"
   ]
  },
  {
   "cell_type": "code",
   "execution_count": 23,
   "metadata": {},
   "outputs": [
    {
     "data": {
      "text/html": [
       "<style>#sk-container-id-5 {color: black;}#sk-container-id-5 pre{padding: 0;}#sk-container-id-5 div.sk-toggleable {background-color: white;}#sk-container-id-5 label.sk-toggleable__label {cursor: pointer;display: block;width: 100%;margin-bottom: 0;padding: 0.3em;box-sizing: border-box;text-align: center;}#sk-container-id-5 label.sk-toggleable__label-arrow:before {content: \"▸\";float: left;margin-right: 0.25em;color: #696969;}#sk-container-id-5 label.sk-toggleable__label-arrow:hover:before {color: black;}#sk-container-id-5 div.sk-estimator:hover label.sk-toggleable__label-arrow:before {color: black;}#sk-container-id-5 div.sk-toggleable__content {max-height: 0;max-width: 0;overflow: hidden;text-align: left;background-color: #f0f8ff;}#sk-container-id-5 div.sk-toggleable__content pre {margin: 0.2em;color: black;border-radius: 0.25em;background-color: #f0f8ff;}#sk-container-id-5 input.sk-toggleable__control:checked~div.sk-toggleable__content {max-height: 200px;max-width: 100%;overflow: auto;}#sk-container-id-5 input.sk-toggleable__control:checked~label.sk-toggleable__label-arrow:before {content: \"▾\";}#sk-container-id-5 div.sk-estimator input.sk-toggleable__control:checked~label.sk-toggleable__label {background-color: #d4ebff;}#sk-container-id-5 div.sk-label input.sk-toggleable__control:checked~label.sk-toggleable__label {background-color: #d4ebff;}#sk-container-id-5 input.sk-hidden--visually {border: 0;clip: rect(1px 1px 1px 1px);clip: rect(1px, 1px, 1px, 1px);height: 1px;margin: -1px;overflow: hidden;padding: 0;position: absolute;width: 1px;}#sk-container-id-5 div.sk-estimator {font-family: monospace;background-color: #f0f8ff;border: 1px dotted black;border-radius: 0.25em;box-sizing: border-box;margin-bottom: 0.5em;}#sk-container-id-5 div.sk-estimator:hover {background-color: #d4ebff;}#sk-container-id-5 div.sk-parallel-item::after {content: \"\";width: 100%;border-bottom: 1px solid gray;flex-grow: 1;}#sk-container-id-5 div.sk-label:hover label.sk-toggleable__label {background-color: #d4ebff;}#sk-container-id-5 div.sk-serial::before {content: \"\";position: absolute;border-left: 1px solid gray;box-sizing: border-box;top: 0;bottom: 0;left: 50%;z-index: 0;}#sk-container-id-5 div.sk-serial {display: flex;flex-direction: column;align-items: center;background-color: white;padding-right: 0.2em;padding-left: 0.2em;position: relative;}#sk-container-id-5 div.sk-item {position: relative;z-index: 1;}#sk-container-id-5 div.sk-parallel {display: flex;align-items: stretch;justify-content: center;background-color: white;position: relative;}#sk-container-id-5 div.sk-item::before, #sk-container-id-5 div.sk-parallel-item::before {content: \"\";position: absolute;border-left: 1px solid gray;box-sizing: border-box;top: 0;bottom: 0;left: 50%;z-index: -1;}#sk-container-id-5 div.sk-parallel-item {display: flex;flex-direction: column;z-index: 1;position: relative;background-color: white;}#sk-container-id-5 div.sk-parallel-item:first-child::after {align-self: flex-end;width: 50%;}#sk-container-id-5 div.sk-parallel-item:last-child::after {align-self: flex-start;width: 50%;}#sk-container-id-5 div.sk-parallel-item:only-child::after {width: 0;}#sk-container-id-5 div.sk-dashed-wrapped {border: 1px dashed gray;margin: 0 0.4em 0.5em 0.4em;box-sizing: border-box;padding-bottom: 0.4em;background-color: white;}#sk-container-id-5 div.sk-label label {font-family: monospace;font-weight: bold;display: inline-block;line-height: 1.2em;}#sk-container-id-5 div.sk-label-container {text-align: center;}#sk-container-id-5 div.sk-container {/* jupyter's `normalize.less` sets `[hidden] { display: none; }` but bootstrap.min.css set `[hidden] { display: none !important; }` so we also need the `!important` here to be able to override the default hidden behavior on the sphinx rendered scikit-learn.org. See: https://github.com/scikit-learn/scikit-learn/issues/21755 */display: inline-block !important;position: relative;}#sk-container-id-5 div.sk-text-repr-fallback {display: none;}</style><div id=\"sk-container-id-5\" class=\"sk-top-container\"><div class=\"sk-text-repr-fallback\"><pre>Pipeline(steps=[(&#x27;tfidf&#x27;,\n",
       "                 TfidfVectorizer(max_df=0.95, max_features=20000, min_df=2,\n",
       "                                 ngram_range=(1, 3), strip_accents=&#x27;unicode&#x27;,\n",
       "                                 sublinear_tf=True)),\n",
       "                (&#x27;scaler&#x27;, StandardScaler(with_mean=False)),\n",
       "                (&#x27;classifier&#x27;,\n",
       "                 MultiOutputClassifier(estimator=RandomForestClassifier(class_weight=&#x27;balanced_subsample&#x27;,\n",
       "                                                                        max_depth=30,\n",
       "                                                                        min_samples_leaf=2,\n",
       "                                                                        min_samples_split=4,\n",
       "                                                                        n_estimators=300,\n",
       "                                                                        n_jobs=-1,\n",
       "                                                                        random_state=42)))])</pre><b>In a Jupyter environment, please rerun this cell to show the HTML representation or trust the notebook. <br />On GitHub, the HTML representation is unable to render, please try loading this page with nbviewer.org.</b></div><div class=\"sk-container\" hidden><div class=\"sk-item sk-dashed-wrapped\"><div class=\"sk-label-container\"><div class=\"sk-label sk-toggleable\"><input class=\"sk-toggleable__control sk-hidden--visually\" id=\"sk-estimator-id-25\" type=\"checkbox\" ><label for=\"sk-estimator-id-25\" class=\"sk-toggleable__label sk-toggleable__label-arrow\">Pipeline</label><div class=\"sk-toggleable__content\"><pre>Pipeline(steps=[(&#x27;tfidf&#x27;,\n",
       "                 TfidfVectorizer(max_df=0.95, max_features=20000, min_df=2,\n",
       "                                 ngram_range=(1, 3), strip_accents=&#x27;unicode&#x27;,\n",
       "                                 sublinear_tf=True)),\n",
       "                (&#x27;scaler&#x27;, StandardScaler(with_mean=False)),\n",
       "                (&#x27;classifier&#x27;,\n",
       "                 MultiOutputClassifier(estimator=RandomForestClassifier(class_weight=&#x27;balanced_subsample&#x27;,\n",
       "                                                                        max_depth=30,\n",
       "                                                                        min_samples_leaf=2,\n",
       "                                                                        min_samples_split=4,\n",
       "                                                                        n_estimators=300,\n",
       "                                                                        n_jobs=-1,\n",
       "                                                                        random_state=42)))])</pre></div></div></div><div class=\"sk-serial\"><div class=\"sk-item\"><div class=\"sk-estimator sk-toggleable\"><input class=\"sk-toggleable__control sk-hidden--visually\" id=\"sk-estimator-id-26\" type=\"checkbox\" ><label for=\"sk-estimator-id-26\" class=\"sk-toggleable__label sk-toggleable__label-arrow\">TfidfVectorizer</label><div class=\"sk-toggleable__content\"><pre>TfidfVectorizer(max_df=0.95, max_features=20000, min_df=2, ngram_range=(1, 3),\n",
       "                strip_accents=&#x27;unicode&#x27;, sublinear_tf=True)</pre></div></div></div><div class=\"sk-item\"><div class=\"sk-estimator sk-toggleable\"><input class=\"sk-toggleable__control sk-hidden--visually\" id=\"sk-estimator-id-27\" type=\"checkbox\" ><label for=\"sk-estimator-id-27\" class=\"sk-toggleable__label sk-toggleable__label-arrow\">StandardScaler</label><div class=\"sk-toggleable__content\"><pre>StandardScaler(with_mean=False)</pre></div></div></div><div class=\"sk-item sk-dashed-wrapped\"><div class=\"sk-label-container\"><div class=\"sk-label sk-toggleable\"><input class=\"sk-toggleable__control sk-hidden--visually\" id=\"sk-estimator-id-28\" type=\"checkbox\" ><label for=\"sk-estimator-id-28\" class=\"sk-toggleable__label sk-toggleable__label-arrow\">classifier: MultiOutputClassifier</label><div class=\"sk-toggleable__content\"><pre>MultiOutputClassifier(estimator=RandomForestClassifier(class_weight=&#x27;balanced_subsample&#x27;,\n",
       "                                                       max_depth=30,\n",
       "                                                       min_samples_leaf=2,\n",
       "                                                       min_samples_split=4,\n",
       "                                                       n_estimators=300,\n",
       "                                                       n_jobs=-1,\n",
       "                                                       random_state=42))</pre></div></div></div><div class=\"sk-parallel\"><div class=\"sk-parallel-item\"><div class=\"sk-item\"><div class=\"sk-label-container\"><div class=\"sk-label sk-toggleable\"><input class=\"sk-toggleable__control sk-hidden--visually\" id=\"sk-estimator-id-29\" type=\"checkbox\" ><label for=\"sk-estimator-id-29\" class=\"sk-toggleable__label sk-toggleable__label-arrow\">estimator: RandomForestClassifier</label><div class=\"sk-toggleable__content\"><pre>RandomForestClassifier(class_weight=&#x27;balanced_subsample&#x27;, max_depth=30,\n",
       "                       min_samples_leaf=2, min_samples_split=4,\n",
       "                       n_estimators=300, n_jobs=-1, random_state=42)</pre></div></div></div><div class=\"sk-serial\"><div class=\"sk-item\"><div class=\"sk-estimator sk-toggleable\"><input class=\"sk-toggleable__control sk-hidden--visually\" id=\"sk-estimator-id-30\" type=\"checkbox\" ><label for=\"sk-estimator-id-30\" class=\"sk-toggleable__label sk-toggleable__label-arrow\">RandomForestClassifier</label><div class=\"sk-toggleable__content\"><pre>RandomForestClassifier(class_weight=&#x27;balanced_subsample&#x27;, max_depth=30,\n",
       "                       min_samples_leaf=2, min_samples_split=4,\n",
       "                       n_estimators=300, n_jobs=-1, random_state=42)</pre></div></div></div></div></div></div></div></div></div></div></div></div>"
      ],
      "text/plain": [
       "Pipeline(steps=[('tfidf',\n",
       "                 TfidfVectorizer(max_df=0.95, max_features=20000, min_df=2,\n",
       "                                 ngram_range=(1, 3), strip_accents='unicode',\n",
       "                                 sublinear_tf=True)),\n",
       "                ('scaler', StandardScaler(with_mean=False)),\n",
       "                ('classifier',\n",
       "                 MultiOutputClassifier(estimator=RandomForestClassifier(class_weight='balanced_subsample',\n",
       "                                                                        max_depth=30,\n",
       "                                                                        min_samples_leaf=2,\n",
       "                                                                        min_samples_split=4,\n",
       "                                                                        n_estimators=300,\n",
       "                                                                        n_jobs=-1,\n",
       "                                                                        random_state=42)))])"
      ]
     },
     "execution_count": 23,
     "metadata": {},
     "output_type": "execute_result"
    }
   ],
   "source": [
    "pipeline = Pipeline([\n",
    "    ('tfidf', TfidfVectorizer(\n",
    "        max_features=20000,\n",
    "        ngram_range=(1, 3),\n",
    "        min_df=2,\n",
    "        max_df=0.95,\n",
    "        strip_accents='unicode',\n",
    "        use_idf=True,\n",
    "        smooth_idf=True,\n",
    "        sublinear_tf=True\n",
    "    )),\n",
    "    ('scaler', StandardScaler(with_mean=False)),\n",
    "    ('classifier', MultiOutputClassifier(RandomForestClassifier(\n",
    "        n_estimators=300,\n",
    "        max_depth=30,\n",
    "        min_samples_split=4,\n",
    "        min_samples_leaf=2,\n",
    "        class_weight='balanced_subsample',  \n",
    "        bootstrap=True,\n",
    "        random_state=42,\n",
    "        n_jobs=-1\n",
    "    )))\n",
    "])\n",
    "\n",
    "set_config(display='diagram')\n",
    "pipeline"
   ]
  },
  {
   "cell_type": "code",
   "execution_count": 24,
   "metadata": {},
   "outputs": [],
   "source": [
    "param_grid = {\n",
    "    'tfidf__max_features': [10000, 20000],\n",
    "    'tfidf__ngram_range': [(1, 1), (1, 2)],\n",
    "    'classifier__estimator__n_estimators': [150, 300],\n",
    "    'classifier__estimator__max_depth': [15, 30],\n",
    "    'classifier__estimator__min_samples_split': [2, 4],\n",
    "    'classifier__estimator__min_samples_leaf': [1, 2]\n",
    "}\n",
    "grid_search = GridSearchCV(\n",
    "    pipeline,\n",
    "    param_grid,\n",
    "    cv=3,\n",
    "    n_jobs=-1,\n",
    "    verbose=3,\n",
    "    scoring='accuracy',\n",
    "    error_score='raise'\n",
    ")"
   ]
  },
  {
   "cell_type": "code",
   "execution_count": 25,
   "metadata": {},
   "outputs": [
    {
     "name": "stdout",
     "output_type": "stream",
     "text": [
      "Fitting 3 folds for each of 64 candidates, totalling 192 fits\n"
     ]
    }
   ],
   "source": [
    "history = grid_search.fit(X_train, y_train)"
   ]
  },
  {
   "cell_type": "code",
   "execution_count": 26,
   "metadata": {},
   "outputs": [
    {
     "data": {
      "image/png": "[encoded data removed]",
      "text/plain": [
       "<Figure size 1000x600 with 1 Axes>"
      ]
     },
     "metadata": {},
     "output_type": "display_data"
    }
   ],
   "source": [
    "results = pd.DataFrame(grid_search.cv_results_)\n",
    "plt.figure(figsize=(10, 6))\n",
    "plt.plot(results['mean_test_score'], label='Mean Test Accuracy')\n",
    "plt.xlabel('Parameter Combination Index')\n",
    "plt.ylabel('Mean Accuracy')\n",
    "plt.title('GridSearchCV Mean Test Accuracy')\n",
    "plt.legend()\n",
    "plt.show()"
   ]
  },
  {
   "cell_type": "code",
   "execution_count": 28,
   "metadata": {},
   "outputs": [
    {
     "name": "stdout",
     "output_type": "stream",
     "text": [
      "\n",
      "Best parameters: {'classifier__estimator__max_depth': 30, 'classifier__estimator__min_samples_leaf': 1, 'classifier__estimator__min_samples_split': 2, 'classifier__estimator__n_estimators': 300, 'tfidf__max_features': 20000, 'tfidf__ngram_range': (1, 2)}\n",
      "Making predictions...\n",
      "\n",
      "Classification Report:\n",
      "                precision    recall  f1-score   support\n",
      "\n",
      "    admiration       0.42      0.56      0.48      1126\n",
      "     amusement       0.52      0.63      0.57       616\n",
      "         anger       0.26      0.42      0.32       514\n",
      "     annoyance       0.18      0.33      0.24       880\n",
      "      approval       0.21      0.30      0.25      1194\n",
      "        caring       0.20      0.30      0.24       403\n",
      "     confusion       0.17      0.29      0.21       499\n",
      "     curiosity       0.20      0.25      0.22       648\n",
      "        desire       0.23      0.31      0.27       252\n",
      "disappointment       0.14      0.21      0.17       548\n",
      "   disapproval       0.16      0.34      0.21       757\n",
      "       disgust       0.22      0.36      0.27       353\n",
      " embarrassment       0.17      0.25      0.21       161\n",
      "    excitement       0.17      0.28      0.21       373\n",
      "          fear       0.45      0.42      0.43       218\n",
      "     gratitude       0.71      0.72      0.72       753\n",
      "         grief       0.26      0.10      0.15        49\n",
      "           joy       0.32      0.37      0.34       529\n",
      "          love       0.53      0.74      0.62       533\n",
      "   nervousness       0.17      0.10      0.13       118\n",
      "      optimism       0.39      0.39      0.39       606\n",
      "         pride       0.14      0.09      0.11        88\n",
      "   realization       0.14      0.17      0.15       597\n",
      "        relief       0.08      0.11      0.09        95\n",
      "       remorse       0.42      0.49      0.45       167\n",
      "       sadness       0.30      0.41      0.34       433\n",
      "      surprise       0.26      0.36      0.30       344\n",
      "       neutral       0.37      0.77      0.50      3684\n",
      "\n",
      "     micro avg       0.31      0.47      0.37     16538\n",
      "     macro avg       0.28      0.36      0.31     16538\n",
      "  weighted avg       0.31      0.47      0.37     16538\n",
      "   samples avg       0.34      0.49      0.38     16538\n",
      "\n",
      "\n",
      "Accuracy Score: 0.18128571428571427\n",
      "\n",
      "Per-emotion accuracy:\n",
      "admiration: 0.9014\n",
      "amusement: 0.9579\n",
      "anger: 0.9357\n",
      "annoyance: 0.8658\n",
      "approval: 0.8448\n",
      "caring: 0.9446\n",
      "confusion: 0.9239\n",
      "curiosity: 0.9196\n",
      "desire: 0.9687\n",
      "disappointment: 0.9196\n",
      "disapproval: 0.8674\n",
      "disgust: 0.9510\n",
      "embarrassment: 0.9774\n",
      "excitement: 0.9445\n",
      "fear: 0.9829\n",
      "gratitude: 0.9695\n",
      "grief: 0.9959\n",
      "joy: 0.9459\n",
      "love: 0.9655\n",
      "nervousness: 0.9882\n",
      "optimism: 0.9477\n",
      "pride: 0.9909\n",
      "realization: 0.9204\n",
      "relief: 0.9858\n",
      "remorse: 0.9857\n",
      "sadness: 0.9516\n",
      "surprise: 0.9591\n",
      "neutral: 0.5953\n"
     ]
    },
    {
     "name": "stderr",
     "output_type": "stream",
     "text": [
      "c:\\Users\\TTill\\anaconda3\\envs\\keji\\lib\\site-packages\\sklearn\\metrics\\_classification.py:1471: UndefinedMetricWarning: Precision and F-score are ill-defined and being set to 0.0 in samples with no predicted labels. Use `zero_division` parameter to control this behavior.\n",
      "  _warn_prf(average, modifier, msg_start, len(result))\n",
      "c:\\Users\\TTill\\anaconda3\\envs\\keji\\lib\\site-packages\\sklearn\\metrics\\_classification.py:1471: UndefinedMetricWarning: Recall and F-score are ill-defined and being set to 0.0 in samples with no true labels. Use `zero_division` parameter to control this behavior.\n",
      "  _warn_prf(average, modifier, msg_start, len(result))\n"
     ]
    }
   ],
   "source": [
    "print(\"\\nBest parameters:\", grid_search.best_params_)\n",
    "print(\"Making predictions...\")\n",
    "y_pred = grid_search.predict(X_test)\n",
    "print(\"\\nClassification Report:\")\n",
    "print(classification_report(y_test, y_pred, target_names=y.columns))\n",
    "print(\"\\nAccuracy Score:\", accuracy_score(y_test, y_pred))\n",
    "print(\"\\nPer-emotion accuracy:\")\n",
    "per_emotion_accuracy = {}\n",
    "for i, emotion in enumerate(y.columns):\n",
    "    acc = accuracy_score(y_test.iloc[:, i], y_pred[:, i])\n",
    "    per_emotion_accuracy[emotion] = acc\n",
    "    print(f\"{emotion}: {acc:.4f}\")"
   ]
  },
  {
   "cell_type": "code",
   "execution_count": 29,
   "metadata": {},
   "outputs": [],
   "source": [
    "with open('sentiment_model.pkl', 'wb') as model_file:\n",
    "    pickle.dump(grid_search.best_estimator_, model_file)"
   ]
  },
  {
   "cell_type": "code",
   "execution_count": null,
   "metadata": {},
   "outputs": [],
   "source": [
    "def predict_emotions(text, model):\n",
    "    processed_text = processText(text)\n",
    "    prediction = model.predict([processed_text])\n",
    "    emotions_predicted = []\n",
    "    for i, emotion in enumerate(y.columns):\n",
    "        if prediction[0][i] == 1:\n",
    "            emotions_predicted.append(emotion)\n",
    "    return emotions_predicted\n",
    "\n"
   ]
  },
  {
   "cell_type": "code",
   "execution_count": 34,
   "metadata": {},
   "outputs": [
    {
     "name": "stdout",
     "output_type": "stream",
     "text": [
      "Sample text: I'm happy the model is finished training\n",
      "Predicted emotions: ['caring', 'excitement', 'joy']\n"
     ]
    }
   ],
   "source": [
    "sample = \"I'm happy the model is finished training\"\n",
    "best_model = grid_search.best_estimator_\n",
    "emotions = predict_emotions(sample, best_model)\n",
    "print(f\"Sample text: {sample}\")\n",
    "print(f\"Predicted emotions: {emotions}\")"
   ]
  },
  {
   "cell_type": "code",
   "execution_count": 35,
   "metadata": {},
   "outputs": [
    {
     "name": "stdout",
     "output_type": "stream",
     "text": [
      "Sample text: I'm happy the model is finished training\n",
      "Predicted emotions and their scores:\n",
      "admiration: 0.00\n",
      "amusement: 0.00\n",
      "anger: 0.00\n",
      "annoyance: 0.00\n",
      "approval: 0.00\n",
      "caring: 1.00\n",
      "confusion: 0.00\n",
      "curiosity: 0.00\n",
      "desire: 0.00\n",
      "disappointment: 0.00\n",
      "disapproval: 0.00\n",
      "disgust: 0.00\n",
      "embarrassment: 0.00\n",
      "excitement: 1.00\n",
      "fear: 0.00\n",
      "gratitude: 0.00\n",
      "grief: 0.00\n",
      "joy: 1.00\n",
      "love: 0.00\n",
      "nervousness: 0.00\n",
      "optimism: 0.00\n",
      "pride: 0.00\n",
      "realization: 0.00\n",
      "relief: 0.00\n",
      "remorse: 0.00\n",
      "sadness: 0.00\n",
      "surprise: 0.00\n",
      "neutral: 0.00\n"
     ]
    }
   ],
   "source": [
    "def predict_emotions(text, model):\n",
    "    processed_text = processText(text)  # Assuming processText is defined\n",
    "    prediction = model.predict([processed_text])\n",
    "    emotion_scores = {}\n",
    "    for i, emotion in enumerate(y.columns):  # y.columns should be the list of emotions\n",
    "        # Assuming the prediction is in probabilities (e.g., softmax output)\n",
    "        emotion_scores[emotion] = prediction[0][i]  # Store the score for each emotion\n",
    "    return emotion_scores\n",
    "\n",
    "sample = \"I'm happy the model is finished training\"\n",
    "best_model = grid_search.best_estimator_  # Assuming grid_search is defined\n",
    "emotion_scores = predict_emotions(sample, best_model)\n",
    "\n",
    "print(f\"Sample text: {sample}\")\n",
    "print(\"Predicted emotions and their scores:\")\n",
    "for emotion, score in emotion_scores.items():\n",
    "    print(f\"{emotion}: {score:.2f}\")\n"
   ]
  },
  {
   "cell_type": "code",
   "execution_count": 36,
   "metadata": {},
   "outputs": [
    {
     "name": "stdout",
     "output_type": "stream",
     "text": [
      "Sample text: I'm happy the model is finished training\n",
      "Predicted emotion scores (vector): [0.0, 0.0, 0.0, 0.0, 0.0, 1.0, 0.0, 0.0, 0.0, 0.0, 0.0, 0.0, 0.0, 1.0, 0.0, 0.0, 0.0, 1.0, 0.0, 0.0, 0.0, 0.0, 0.0, 0.0, 0.0, 0.0, 0.0, 0.0]\n"
     ]
    }
   ],
   "source": [
    "def predict_emotions(text, model):\n",
    "    processed_text = processText(text)  # Assuming processText is defined\n",
    "    prediction = model.predict([processed_text])\n",
    "    emotion_scores = []\n",
    "    for i in range(len(y.columns)):  # Assuming y.columns is the list of emotions\n",
    "        emotion_scores.append(float(prediction[0][i]))  # Append the score as a float\n",
    "    return emotion_scores\n",
    "\n",
    "sample = \"I'm happy the model is finished training\"\n",
    "best_model = grid_search.best_estimator_  # Assuming grid_search is defined\n",
    "emotion_scores = predict_emotions(sample, best_model)\n",
    "\n",
    "print(f\"Sample text: {sample}\")\n",
    "print(f\"Predicted emotion scores (vector): {emotion_scores}\")\n"
   ]
  },
  {
   "cell_type": "code",
   "execution_count": 41,
   "metadata": {},
   "outputs": [],
   "source": [
    "import numpy as np"
   ]
  },
  {
   "cell_type": "code",
   "execution_count": null,
   "metadata": {},
   "outputs": [
    {
     "name": "stdout",
     "output_type": "stream",
     "text": [
      "Prediction probabilities type: <class 'list'>\n",
      "Prediction probabilities: [array([[0.51569203, 0.48430797]]), array([[0.56290772, 0.43709228]]), array([[0.58173812, 0.41826188]]), array([[0.59427071, 0.40572929]]), array([[0.56563039, 0.43436961]]), array([[0.56770931, 0.43229069]]), array([[0.61048097, 0.38951903]]), array([[0.58507435, 0.41492565]]), array([[0.59370742, 0.40629258]]), array([[0.59101503, 0.40898497]]), array([[0.58396512, 0.41603488]]), array([[0.60855952, 0.39144048]]), array([[0.63455039, 0.36544961]]), array([[0.53613862, 0.46386138]]), array([[0.61522089, 0.38477911]]), array([[0.60137096, 0.39862904]]), array([[0.68861667, 0.31138333]]), array([[0.51581072, 0.48418928]]), array([[0.41195023, 0.58804977]]), array([[0.62156325, 0.37843675]]), array([[0.60540798, 0.39459202]]), array([[0.60460094, 0.39539906]]), array([[0.56650392, 0.43349608]]), array([[0.65495294, 0.34504706]]), array([[0.6665613, 0.3334387]]), array([[0.60697842, 0.39302158]]), array([[0.60702906, 0.39297094]]), array([[0.56208947, 0.43791053]])]\n",
      "Prediction probabilities shape: 28 1\n",
      "Sample text: I love you\n",
      "Predicted emotion scores (vector): [51.569202862364584, 56.29077187681193, 58.173811847707704, 59.427070812592255, 56.563038680222455, 56.77093147288239, 61.04809701607301, 58.50743515608088, 59.37074210163159, 59.10150348340737, 58.39651159617561, 60.855952101361474, 63.45503918906773, 53.61386185309147, 61.52208945482992, 60.13709648046681, 68.86166723150069, 51.581071966116454, 58.80497667866131, 62.156324610069646, 60.540798182068656, 60.46009444520396, 56.650391583509176, 65.49529446594308, 66.65613028938824, 60.697841754021034, 60.70290583285334, 56.20894739388137]\n"
     ]
    }
   ],
   "source": [
    "def predict_emotions(text, model):\n",
    "    processed_text = processText(text)  # Assuming processText is defined\n",
    "    # Get the prediction probabilities\n",
    "    prediction_probabilities = model.predict_proba([processed_text])\n",
    "    \n",
    "    # Print the type and contents of prediction_probabilities to understand the structure\n",
    "    print(\"Prediction probabilities type:\", type(prediction_probabilities))\n",
    "    print(\"Prediction probabilities:\", prediction_probabilities)\n",
    "    print(\"Prediction probabilities shape:\", len(prediction_probabilities), len(prediction_probabilities[0]))\n",
    "\n",
    "    emotion_scores = []\n",
    "    \n",
    "    # Assuming y.columns contains the list of emotion names\n",
    "    for i in range(len(y.columns)):  # Loop over the emotions\n",
    "        # Extract the highest probability from the pair\n",
    "        emotion_prob = max(prediction_probabilities[i][0])  # Get the max probability for each emotion\n",
    "        \n",
    "        print(f\"Prediction for emotion {y.columns[i]}: {emotion_prob}\")\n",
    "        \n",
    "        # Convert to float percentage and append to emotion_scores\n",
    "        emotion_scores.append(float(emotion_prob) * 100)  # Multiply by 100 for percentage\n",
    "    \n",
    "    return emotion_scores\n",
    "\n",
    "sample = \"I love you\"\n",
    "best_model = grid_search.best_estimator_  # Assuming grid_search is defined\n",
    "emotion_scores = predict_emotions(sample, best_model)\n",
    "\n",
    "print(f\"Sample text: {sample}\")\n",
    "print(f\"Predicted emotion scores (vector): {emotion_scores}\")\n"
   ]
  },
  {
   "cell_type": "code",
   "execution_count": null,
   "metadata": {},
   "outputs": [],
   "source": []
  }
 ],
 "metadata": {
  "kernelspec": {
   "display_name": "keji",
   "language": "python",
   "name": "python3"
  },
  "language_info": {
   "codemirror_mode": {
    "name": "ipython",
    "version": 3
   },
   "file_extension": ".py",
   "mimetype": "text/x-python",
   "name": "python",
   "nbconvert_exporter": "python",
   "pygments_lexer": "ipython3",
   "version": "3.8.20"
  }
 },
 "nbformat": 4,
 "nbformat_minor": 2
}
